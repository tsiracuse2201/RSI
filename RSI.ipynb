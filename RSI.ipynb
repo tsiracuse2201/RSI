{
 "cells": [
  {
   "cell_type": "code",
   "execution_count": null,
   "metadata": {},
   "outputs": [],
   "source": [
    "import pandas_datareader as pdr\n",
    "import talib\n",
    "import datetime\n",
    "\n",
    "# Set the start and end dates\n",
    "start_date = datetime.datetime(2020, 1, 1)\n",
    "end_date = datetime.datetime(2020, 12, 31)\n",
    "\n",
    "# Fetch the stock data using the ticker symbol\n",
    "ticker = \"AAPL\"\n",
    "data = pdr.get_data_yahoo(ticker, start_date, end_date)\n",
    "\n",
    "# Calculate the RSI using the close prices\n",
    "rsi = talib.RSI(data[\"Close\"], timeperiod=14)\n",
    "\n",
    "# Add the RSI to the dataframe\n",
    "data[\"RSI\"] = rsi\n",
    "\n",
    "# Display the resulting data\n",
    "print(data)\n",
    "\n",
    "\n",
    "\n"
   ]
  }
 ],
 "metadata": {
  "kernelspec": {
   "display_name": "Python 3",
   "language": "python",
   "name": "python3"
  },
  "language_info": {
   "codemirror_mode": {
    "name": "ipython",
    "version": 3
   },
   "file_extension": ".py",
   "mimetype": "text/x-python",
   "name": "python",
   "nbconvert_exporter": "python",
   "pygments_lexer": "ipython3",
   "version": "3.8.5"
  }
 },
 "nbformat": 4,
 "nbformat_minor": 4
}
